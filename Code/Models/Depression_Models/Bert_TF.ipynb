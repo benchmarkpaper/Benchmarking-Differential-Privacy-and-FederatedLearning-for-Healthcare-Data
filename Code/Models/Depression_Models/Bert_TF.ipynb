{
  "nbformat": 4,
  "nbformat_minor": 0,
  "metadata": {
    "colab": {
      "name": "Bert_Depression.ipynb",
      "provenance": [],
      "collapsed_sections": []
    },
    "kernelspec": {
      "name": "python3",
      "display_name": "Python 3"
    },
    "language_info": {
      "name": "python"
    },
    "accelerator": "GPU"
  },
  "cells": [
    {
      "cell_type": "code",
      "metadata": {
        "id": "aX8aT1N2knlc"
      },
      "source": [
        "import numpy as np \n",
        "import pandas as pd\n",
        "import matplotlib.pyplot as plt"
      ],
      "execution_count": 1,
      "outputs": []
    },
    {
      "cell_type": "code",
      "metadata": {
        "id": "AaPqXuYiky9O"
      },
      "source": [
        "data = pd.read_csv(\"dep1_cleaned.csv\")"
      ],
      "execution_count": 2,
      "outputs": []
    },
    {
      "cell_type": "code",
      "metadata": {
        "colab": {
          "base_uri": "https://localhost:8080/",
          "height": 204
        },
        "id": "b8gcCRAkk0hJ",
        "outputId": "0ca9668a-bd0f-4db8-93dc-76244759a6f5"
      },
      "source": [
        "data['tweet'] = data['tweet'].astype(str)\n",
        "data.head()"
      ],
      "execution_count": 3,
      "outputs": [
        {
          "output_type": "execute_result",
          "data": {
            "text/html": [
              "<div>\n",
              "<style scoped>\n",
              "    .dataframe tbody tr th:only-of-type {\n",
              "        vertical-align: middle;\n",
              "    }\n",
              "\n",
              "    .dataframe tbody tr th {\n",
              "        vertical-align: top;\n",
              "    }\n",
              "\n",
              "    .dataframe thead th {\n",
              "        text-align: right;\n",
              "    }\n",
              "</style>\n",
              "<table border=\"1\" class=\"dataframe\">\n",
              "  <thead>\n",
              "    <tr style=\"text-align: right;\">\n",
              "      <th></th>\n",
              "      <th>Unnamed: 0</th>\n",
              "      <th>tweet</th>\n",
              "      <th>target</th>\n",
              "    </tr>\n",
              "  </thead>\n",
              "  <tbody>\n",
              "    <tr>\n",
              "      <th>0</th>\n",
              "      <td>0</td>\n",
              "      <td>Today in Selfcare: beauty ; laughs Kung Fu Pan...</td>\n",
              "      <td>0</td>\n",
              "    </tr>\n",
              "    <tr>\n",
              "      <th>1</th>\n",
              "      <td>1</td>\n",
              "      <td>I get to spend New Year's home again alone and...</td>\n",
              "      <td>1</td>\n",
              "    </tr>\n",
              "    <tr>\n",
              "      <th>2</th>\n",
              "      <td>2</td>\n",
              "      <td>Depressed and lonely /: Stuck in a deep, never...</td>\n",
              "      <td>1</td>\n",
              "    </tr>\n",
              "    <tr>\n",
              "      <th>3</th>\n",
              "      <td>3</td>\n",
              "      <td>If this is your response to someone saying the...</td>\n",
              "      <td>0</td>\n",
              "    </tr>\n",
              "    <tr>\n",
              "      <th>4</th>\n",
              "      <td>4</td>\n",
              "      <td>Apparently you get a free pass just by mention...</td>\n",
              "      <td>0</td>\n",
              "    </tr>\n",
              "  </tbody>\n",
              "</table>\n",
              "</div>"
            ],
            "text/plain": [
              "   Unnamed: 0                                              tweet  target\n",
              "0           0  Today in Selfcare: beauty ; laughs Kung Fu Pan...       0\n",
              "1           1  I get to spend New Year's home again alone and...       1\n",
              "2           2  Depressed and lonely /: Stuck in a deep, never...       1\n",
              "3           3  If this is your response to someone saying the...       0\n",
              "4           4  Apparently you get a free pass just by mention...       0"
            ]
          },
          "metadata": {
            "tags": []
          },
          "execution_count": 3
        }
      ]
    },
    {
      "cell_type": "code",
      "metadata": {
        "colab": {
          "base_uri": "https://localhost:8080/",
          "height": 265
        },
        "id": "1T-pPQVylzAq",
        "outputId": "21293000-2fb7-4cb7-e6ea-0ad28508bc73"
      },
      "source": [
        "#Visualization\n",
        "sh=0\n",
        "for i in range(len(data[\"target\"])):\n",
        "    if data[\"target\"].iloc[i]==1:\n",
        "        sh+=1\n",
        "normal=len(data[\"target\"])-sh\n",
        "label_values={\"Depressing\" : sh, \"Not Depressing\" : normal}\n",
        "plt.bar(label_values.keys(),label_values.values(),align=\"center\")\n",
        "plt.ylabel(\"Number of Tweets\")\n",
        "plt.show()"
      ],
      "execution_count": 4,
      "outputs": [
        {
          "output_type": "display_data",
          "data": {
            "image/png": "[encoded data removed]",
            "text/plain": [
              "<Figure size 432x288 with 1 Axes>"
            ]
          },
          "metadata": {
            "tags": [],
            "needs_background": "light"
          }
        }
      ]
    },
    {
      "cell_type": "code",
      "metadata": {
        "colab": {
          "base_uri": "https://localhost:8080/",
          "height": 198
        },
        "id": "1pQjk0Y2lz9F",
        "outputId": "8b7612cd-31fa-4168-9166-6876353a996b"
      },
      "source": [
        "import matplotlib.pyplot as plt\n",
        "from wordcloud import WordCloud, STOPWORDS\n",
        "\n",
        "text = data['tweet'].values \n",
        "\n",
        "wordcloud = WordCloud().generate(str(text))\n",
        "\n",
        "plt.imshow(wordcloud)\n",
        "plt.axis(\"off\")\n",
        "plt.show()"
      ],
      "execution_count": 7,
      "outputs": [
        {
          "output_type": "display_data",
          "data": {
            "image/png": "[encoded data removed]",
            "text/plain": [
              "<Figure size 432x288 with 1 Axes>"
            ]
          },
          "metadata": {
            "tags": [],
            "needs_background": "light"
          }
        }
      ]
    },
    {
      "cell_type": "code",
      "metadata": {
        "colab": {
          "base_uri": "https://localhost:8080/"
        },
        "id": "ag4e47nLl_Ne",
        "outputId": "42c1add3-0b12-40a9-9c23-2c4954e921aa"
      },
      "source": [
        "print(\"No. of Label 1 tweets\")\n",
        "print(len(data[data[\"target\"].isin([1])]))\n",
        "print(\"No. of Label 0 tweets\")\n",
        "print(len(data[data[\"target\"].isin([0])]))\n",
        "print(\"Class Balance Ratio\")\n",
        "print((len(data[data[\"target\"].isin([1])]))/len(data))"
      ],
      "execution_count": 8,
      "outputs": [
        {
          "output_type": "stream",
          "text": [
            "No. of Label 1 tweets\n",
            "842\n",
            "No. of Label 0 tweets\n",
            "2254\n",
            "Class Balance Ratio\n",
            "0.2719638242894057\n"
          ],
          "name": "stdout"
        }
      ]
    },
    {
      "cell_type": "code",
      "metadata": {
        "id": "FFgMhGCXk4W3"
      },
      "source": [
        "import tensorflow as tf\n",
        "import sklearn\n",
        "import seaborn as sbs\n",
        "import sklearn.naive_bayes \n",
        "import sklearn.model_selection\n",
        "import sklearn.metrics"
      ],
      "execution_count": 9,
      "outputs": []
    },
    {
      "cell_type": "code",
      "metadata": {
        "colab": {
          "base_uri": "https://localhost:8080/"
        },
        "id": "ZlWgk6Gdk6bQ",
        "outputId": "b85c3b22-8d2c-439f-b8ae-1ff328d917a2"
      },
      "source": [
        "!pip3 install bert-for-tf2"
      ],
      "execution_count": 10,
      "outputs": [
        {
          "output_type": "stream",
          "text": [
            "Requirement already satisfied: bert-for-tf2 in /usr/local/lib/python3.7/dist-packages (0.14.9)\n",
            "Requirement already satisfied: params-flow>=0.8.0 in /usr/local/lib/python3.7/dist-packages (from bert-for-tf2) (0.8.2)\n",
            "Requirement already satisfied: py-params>=0.9.6 in /usr/local/lib/python3.7/dist-packages (from bert-for-tf2) (0.10.2)\n",
            "Requirement already satisfied: tqdm in /usr/local/lib/python3.7/dist-packages (from params-flow>=0.8.0->bert-for-tf2) (4.41.1)\n",
            "Requirement already satisfied: numpy in /usr/local/lib/python3.7/dist-packages (from params-flow>=0.8.0->bert-for-tf2) (1.19.5)\n"
          ],
          "name": "stdout"
        }
      ]
    },
    {
      "cell_type": "code",
      "metadata": {
        "id": "9q_QYcybk76r"
      },
      "source": [
        "import tensorflow_hub as hub \n",
        "from bert import bert_tokenization\n",
        "module_url = 'https://tfhub.dev/tensorflow/bert_en_uncased_L-12_H-768_A-12/2'\n",
        "bert_layer = hub.KerasLayer(module_url, trainable=True)"
      ],
      "execution_count": 11,
      "outputs": []
    },
    {
      "cell_type": "code",
      "metadata": {
        "id": "F3N0TEuVlDdU"
      },
      "source": [
        "vocab_file = bert_layer.resolved_object.vocab_file.asset_path.numpy()\n",
        "do_lower_case = bert_layer.resolved_object.do_lower_case.numpy()\n",
        "tokenizer = bert_tokenization.FullTokenizer(vocab_file, do_lower_case)"
      ],
      "execution_count": 12,
      "outputs": []
    },
    {
      "cell_type": "code",
      "metadata": {
        "id": "iBPBW1GJlFFz"
      },
      "source": [
        "def bert_encode(texts, tokenizer, max_len=512):\n",
        "    all_tokens = []\n",
        "    all_masks = []\n",
        "    all_segments = []\n",
        "    \n",
        "    for text in texts:\n",
        "        text = tokenizer.tokenize(text)\n",
        "            \n",
        "        text = text[:max_len-2]\n",
        "        input_sequence = [\"[CLS]\"] + text + [\"[SEP]\"]\n",
        "        pad_len = max_len - len(input_sequence)\n",
        "        \n",
        "        tokens = tokenizer.convert_tokens_to_ids(input_sequence) + [0] * pad_len\n",
        "        pad_masks = [1] * len(input_sequence) + [0] * pad_len\n",
        "        segment_ids = [0] * max_len\n",
        "        \n",
        "        all_tokens.append(tokens)\n",
        "        all_masks.append(pad_masks)\n",
        "        all_segments.append(segment_ids)\n",
        "    \n",
        "    return np.array(all_tokens), np.array(all_masks), np.array(all_segments)\n",
        "\n",
        "def build_model(bert_layer, max_len=512):\n",
        "    input_word_ids = tf.keras.Input(shape=(max_len,), dtype=tf.int32, name=\"input_word_ids\")\n",
        "    input_mask = tf.keras.Input(shape=(max_len,), dtype=tf.int32, name=\"input_mask\")\n",
        "    segment_ids = tf.keras.Input(shape=(max_len,), dtype=tf.int32, name=\"segment_ids\")\n",
        "\n",
        "    pooled_output, sequence_output = bert_layer([input_word_ids, input_mask, segment_ids])\n",
        "    clf_output = sequence_output[:, 0, :]\n",
        "    net = tf.keras.layers.Dense(64, activation='relu')(clf_output)\n",
        "    net = tf.keras.layers.Dropout(0.2)(net)\n",
        "    net = tf.keras.layers.Dense(32, activation='relu')(net)\n",
        "    net = tf.keras.layers.Dropout(0.2)(net)\n",
        "    out = tf.keras.layers.Dense(1, activation='sigmoid')(net)\n",
        "    \n",
        "    model = tf.keras.models.Model(inputs=[input_word_ids, input_mask, segment_ids], outputs=out)\n",
        "    model.compile(tf.keras.optimizers.Adam(lr=1e-5), loss='binary_crossentropy', metrics=['accuracy'])\n",
        "    \n",
        "    return model"
      ],
      "execution_count": 13,
      "outputs": []
    },
    {
      "cell_type": "code",
      "metadata": {
        "id": "1pXlJazAlI-J"
      },
      "source": [
        "max_len = 100\n",
        "X_train, X_val, y_train, y_val = sklearn.model_selection.train_test_split(data.tweet, data['target'], \n",
        "                                                                          test_size=0.2, random_state=0)\n",
        "# print(X_train['Text'])\n",
        "# X_train['Text'] = X_train['Text'].apply(lambda x : string(x))\n",
        "X_train = bert_encode(X_train, tokenizer, max_len=max_len)\n",
        "X_val = bert_encode(X_val, tokenizer, max_len=max_len)"
      ],
      "execution_count": 14,
      "outputs": []
    },
    {
      "cell_type": "code",
      "metadata": {
        "colab": {
          "base_uri": "https://localhost:8080/"
        },
        "id": "bVG4bBWBlOWy",
        "outputId": "520d23ff-57f7-43d9-f757-90ef1cd95e2f"
      },
      "source": [
        "model = build_model(bert_layer, max_len=max_len)\n",
        "model.summary()"
      ],
      "execution_count": 15,
      "outputs": [
        {
          "output_type": "stream",
          "text": [
            "Model: \"model\"\n",
            "__________________________________________________________________________________________________\n",
            "Layer (type)                    Output Shape         Param #     Connected to                     \n",
            "==================================================================================================\n",
            "input_word_ids (InputLayer)     [(None, 100)]        0                                            \n",
            "__________________________________________________________________________________________________\n",
            "input_mask (InputLayer)         [(None, 100)]        0                                            \n",
            "__________________________________________________________________________________________________\n",
            "segment_ids (InputLayer)        [(None, 100)]        0                                            \n",
            "__________________________________________________________________________________________________\n",
            "keras_layer (KerasLayer)        [(None, 768), (None, 109482241   input_word_ids[0][0]             \n",
            "                                                                 input_mask[0][0]                 \n",
            "                                                                 segment_ids[0][0]                \n",
            "__________________________________________________________________________________________________\n",
            "tf.__operators__.getitem (Slici (None, 768)          0           keras_layer[0][1]                \n",
            "__________________________________________________________________________________________________\n",
            "dense (Dense)                   (None, 64)           49216       tf.__operators__.getitem[0][0]   \n",
            "__________________________________________________________________________________________________\n",
            "dropout (Dropout)               (None, 64)           0           dense[0][0]                      \n",
            "__________________________________________________________________________________________________\n",
            "dense_1 (Dense)                 (None, 32)           2080        dropout[0][0]                    \n",
            "__________________________________________________________________________________________________\n",
            "dropout_1 (Dropout)             (None, 32)           0           dense_1[0][0]                    \n",
            "__________________________________________________________________________________________________\n",
            "dense_2 (Dense)                 (None, 1)            33          dropout_1[0][0]                  \n",
            "==================================================================================================\n",
            "Total params: 109,533,570\n",
            "Trainable params: 109,533,569\n",
            "Non-trainable params: 1\n",
            "__________________________________________________________________________________________________\n"
          ],
          "name": "stdout"
        }
      ]
    },
    {
      "cell_type": "code",
      "metadata": {
        "colab": {
          "base_uri": "https://localhost:8080/"
        },
        "id": "pM9QSv9TlSWv",
        "outputId": "6eb5c4c5-0ab9-45bf-ec6e-4953dabd7a5a"
      },
      "source": [
        "%%time\n",
        "checkpoint = tf.keras.callbacks.ModelCheckpoint('model.h5', monitor='val_accuracy', save_best_only=True, verbose=1)\n",
        "earlystopping = tf.keras.callbacks.EarlyStopping(monitor='val_accuracy', patience=5, verbose=1)\n",
        "\n",
        "train_history = model.fit(\n",
        "    X_train, y_train, \n",
        "   \n",
        "    epochs=5,\n",
        "    callbacks=[checkpoint, earlystopping],\n",
        "    batch_size=1,\n",
        "    verbose=1\n",
        ")"
      ],
      "execution_count": 16,
      "outputs": [
        {
          "output_type": "stream",
          "text": [
            "Epoch 1/5\n",
            "2476/2476 [==============================] - 156s 58ms/step - loss: 0.4755 - accuracy: 0.7812\n",
            "WARNING:tensorflow:Can save best model only with val_accuracy available, skipping.\n"
          ],
          "name": "stdout"
        },
        {
          "output_type": "stream",
          "text": [
            "WARNING:tensorflow:Can save best model only with val_accuracy available, skipping.\n"
          ],
          "name": "stderr"
        },
        {
          "output_type": "stream",
          "text": [
            "WARNING:tensorflow:Early stopping conditioned on metric `val_accuracy` which is not available. Available metrics are: loss,accuracy\n"
          ],
          "name": "stdout"
        },
        {
          "output_type": "stream",
          "text": [
            "WARNING:tensorflow:Early stopping conditioned on metric `val_accuracy` which is not available. Available metrics are: loss,accuracy\n"
          ],
          "name": "stderr"
        },
        {
          "output_type": "stream",
          "text": [
            "Epoch 2/5\n",
            "2476/2476 [==============================] - 144s 58ms/step - loss: 0.2445 - accuracy: 0.8994\n",
            "WARNING:tensorflow:Can save best model only with val_accuracy available, skipping.\n"
          ],
          "name": "stdout"
        },
        {
          "output_type": "stream",
          "text": [
            "WARNING:tensorflow:Can save best model only with val_accuracy available, skipping.\n"
          ],
          "name": "stderr"
        },
        {
          "output_type": "stream",
          "text": [
            "WARNING:tensorflow:Early stopping conditioned on metric `val_accuracy` which is not available. Available metrics are: loss,accuracy\n"
          ],
          "name": "stdout"
        },
        {
          "output_type": "stream",
          "text": [
            "WARNING:tensorflow:Early stopping conditioned on metric `val_accuracy` which is not available. Available metrics are: loss,accuracy\n"
          ],
          "name": "stderr"
        },
        {
          "output_type": "stream",
          "text": [
            "Epoch 3/5\n",
            "2476/2476 [==============================] - 144s 58ms/step - loss: 0.0869 - accuracy: 0.9722\n",
            "WARNING:tensorflow:Can save best model only with val_accuracy available, skipping.\n"
          ],
          "name": "stdout"
        },
        {
          "output_type": "stream",
          "text": [
            "WARNING:tensorflow:Can save best model only with val_accuracy available, skipping.\n"
          ],
          "name": "stderr"
        },
        {
          "output_type": "stream",
          "text": [
            "WARNING:tensorflow:Early stopping conditioned on metric `val_accuracy` which is not available. Available metrics are: loss,accuracy\n"
          ],
          "name": "stdout"
        },
        {
          "output_type": "stream",
          "text": [
            "WARNING:tensorflow:Early stopping conditioned on metric `val_accuracy` which is not available. Available metrics are: loss,accuracy\n"
          ],
          "name": "stderr"
        },
        {
          "output_type": "stream",
          "text": [
            "Epoch 4/5\n",
            "2476/2476 [==============================] - 144s 58ms/step - loss: 0.0363 - accuracy: 0.9898\n",
            "WARNING:tensorflow:Can save best model only with val_accuracy available, skipping.\n"
          ],
          "name": "stdout"
        },
        {
          "output_type": "stream",
          "text": [
            "WARNING:tensorflow:Can save best model only with val_accuracy available, skipping.\n"
          ],
          "name": "stderr"
        },
        {
          "output_type": "stream",
          "text": [
            "WARNING:tensorflow:Early stopping conditioned on metric `val_accuracy` which is not available. Available metrics are: loss,accuracy\n"
          ],
          "name": "stdout"
        },
        {
          "output_type": "stream",
          "text": [
            "WARNING:tensorflow:Early stopping conditioned on metric `val_accuracy` which is not available. Available metrics are: loss,accuracy\n"
          ],
          "name": "stderr"
        },
        {
          "output_type": "stream",
          "text": [
            "Epoch 5/5\n",
            "2476/2476 [==============================] - 144s 58ms/step - loss: 0.0222 - accuracy: 0.9948\n",
            "WARNING:tensorflow:Can save best model only with val_accuracy available, skipping.\n"
          ],
          "name": "stdout"
        },
        {
          "output_type": "stream",
          "text": [
            "WARNING:tensorflow:Can save best model only with val_accuracy available, skipping.\n"
          ],
          "name": "stderr"
        },
        {
          "output_type": "stream",
          "text": [
            "WARNING:tensorflow:Early stopping conditioned on metric `val_accuracy` which is not available. Available metrics are: loss,accuracy\n"
          ],
          "name": "stdout"
        },
        {
          "output_type": "stream",
          "text": [
            "WARNING:tensorflow:Early stopping conditioned on metric `val_accuracy` which is not available. Available metrics are: loss,accuracy\n"
          ],
          "name": "stderr"
        },
        {
          "output_type": "stream",
          "text": [
            "CPU times: user 8min 29s, sys: 3min 5s, total: 11min 34s\n",
            "Wall time: 12min 11s\n"
          ],
          "name": "stdout"
        }
      ]
    },
    {
      "cell_type": "code",
      "metadata": {
        "colab": {
          "base_uri": "https://localhost:8080/"
        },
        "id": "LhXYx9KUlZDS",
        "outputId": "cab01a50-8686-47cb-a47a-93bbe350f4c4"
      },
      "source": [
        "train_history.history"
      ],
      "execution_count": 17,
      "outputs": [
        {
          "output_type": "execute_result",
          "data": {
            "text/plain": [
              "{'accuracy': [0.796445906162262,\n",
              "  0.8921647667884827,\n",
              "  0.9660742878913879,\n",
              "  0.9874798059463501,\n",
              "  0.9890953302383423],\n",
              " 'loss': [0.440819650888443,\n",
              "  0.2507935166358948,\n",
              "  0.0930287316441536,\n",
              "  0.0440223403275013,\n",
              "  0.03218967840075493]}"
            ]
          },
          "metadata": {
            "tags": []
          },
          "execution_count": 17
        }
      ]
    },
    {
      "cell_type": "code",
      "metadata": {
        "colab": {
          "base_uri": "https://localhost:8080/"
        },
        "id": "A4cgR-iulZch",
        "outputId": "1db4cd1b-19c4-4a52-f3eb-32aa2e63cee1"
      },
      "source": [
        "test_performance=model.evaluate(X_val,y_val)\n",
        "print((test_performance))\n",
        "print(\"The loss of the model on the test set : {}\".format(test_performance[0]))\n",
        "print(\"The accuracy of the model on the test set : {}%\".format(test_performance[1]*100))\n",
        "y_pred = model.predict(X_val)"
      ],
      "execution_count": 18,
      "outputs": [
        {
          "output_type": "stream",
          "text": [
            "20/20 [==============================] - 5s 207ms/step - loss: 0.7957 - accuracy: 0.8452\n",
            "[0.7956849336624146, 0.8451613187789917]\n",
            "The loss of the model on the test set : 0.7956849336624146\n",
            "The accuracy of the model on the test set : 84.51613187789917%\n"
          ],
          "name": "stdout"
        }
      ]
    },
    {
      "cell_type": "code",
      "metadata": {
        "colab": {
          "base_uri": "https://localhost:8080/",
          "height": 295
        },
        "id": "o2zATQ04lbMl",
        "outputId": "84cf0e9a-2f02-44bb-9fbc-9bb8caa95cb3"
      },
      "source": [
        "plt.plot(train_history.history['accuracy'])\n",
        "plt.title('model accuracy')\n",
        "plt.ylabel('accuracy')\n",
        "plt.xlabel('epoch')\n",
        "plt.legend(['train', 'test'], loc='upper left')\n",
        "plt.show()"
      ],
      "execution_count": 19,
      "outputs": [
        {
          "output_type": "display_data",
          "data": {
            "image/png": "[encoded data removed]",
            "text/plain": [
              "<Figure size 432x288 with 1 Axes>"
            ]
          },
          "metadata": {
            "tags": [],
            "needs_background": "light"
          }
        }
      ]
    },
    {
      "cell_type": "code",
      "metadata": {
        "colab": {
          "base_uri": "https://localhost:8080/",
          "height": 295
        },
        "id": "x38IM_balcrL",
        "outputId": "251da608-c9ad-4f5d-93e1-d9f8ae91179c"
      },
      "source": [
        "plt.plot(train_history.history['loss'])\n",
        "plt.title('model loss')\n",
        "plt.ylabel('loss')\n",
        "plt.xlabel('epoch')\n",
        "plt.legend(['train', 'test'], loc='upper left')\n",
        "plt.show()"
      ],
      "execution_count": 20,
      "outputs": [
        {
          "output_type": "display_data",
          "data": {
            "image/png": "[encoded data removed]",
            "text/plain": [
              "<Figure size 432x288 with 1 Axes>"
            ]
          },
          "metadata": {
            "tags": [],
            "needs_background": "light"
          }
        }
      ]
    },
    {
      "cell_type": "code",
      "metadata": {
        "id": "6habITETleVL"
      },
      "source": [
        "y_pred = np.round(y_pred)"
      ],
      "execution_count": 21,
      "outputs": []
    },
    {
      "cell_type": "code",
      "metadata": {
        "colab": {
          "base_uri": "https://localhost:8080/"
        },
        "id": "mH_HPCg1qtuG",
        "outputId": "b5042b3b-7459-496e-940d-3ead9339a5f5"
      },
      "source": [
        "from sklearn.metrics import f1_score\n",
        "print(f1_score(y_val, y_pred, average='macro'))\n",
        "print(f1_score(y_val, y_pred, average='micro'))\n",
        "print(f1_score(y_val, y_pred, average='weighted'))\n",
        "print(f1_score(y_val, y_pred, average=None))\n",
        "print(f1_score(y_val, y_pred, zero_division=1))"
      ],
      "execution_count": 22,
      "outputs": [
        {
          "output_type": "stream",
          "text": [
            "0.8047730880751518\n",
            "0.8451612903225807\n",
            "0.8443019668705075\n",
            "[0.89356984 0.71597633]\n",
            "0.7159763313609467\n"
          ],
          "name": "stdout"
        }
      ]
    },
    {
      "cell_type": "code",
      "metadata": {
        "colab": {
          "base_uri": "https://localhost:8080/"
        },
        "id": "VAiVDKAMqvTA",
        "outputId": "ef2ef3b4-8ddb-48ff-b629-46fa72e0e2bb"
      },
      "source": [
        "from sklearn.metrics import recall_score\n",
        "print(recall_score(y_val, y_pred, average='macro'))\n",
        "print(recall_score(y_val, y_pred, average='micro'))\n",
        "print(recall_score(y_val, y_pred, average='weighted'))\n",
        "print(recall_score(y_val, y_pred, average=None))\n",
        "print(recall_score(y_val, y_pred, average=None, zero_division=1))"
      ],
      "execution_count": 23,
      "outputs": [
        {
          "output_type": "stream",
          "text": [
            "0.8015209717607974\n",
            "0.8451612903225807\n",
            "0.8451612903225807\n",
            "[0.89955357 0.70348837]\n",
            "[0.89955357 0.70348837]\n"
          ],
          "name": "stdout"
        }
      ]
    },
    {
      "cell_type": "code",
      "metadata": {
        "colab": {
          "base_uri": "https://localhost:8080/"
        },
        "id": "oi6jOBI8qxTr",
        "outputId": "c570eb34-d589-4a06-d5da-bef84ed3de02"
      },
      "source": [
        "from sklearn.metrics import precision_score\n",
        "print(precision_score(y_val, y_pred, average='macro'))\n",
        "print(precision_score(y_val, y_pred, average='micro'))\n",
        "print(precision_score(y_val, y_pred, average='weighted'))\n",
        "print(precision_score(y_val, y_pred, average=None))\n",
        "print(precision_score(y_val, y_pred, average=None, zero_division=1))"
      ],
      "execution_count": 24,
      "outputs": [
        {
          "output_type": "stream",
          "text": [
            "0.808290430444244\n",
            "0.8451612903225807\n",
            "0.8436250044943167\n",
            "[0.8876652  0.72891566]\n",
            "[0.8876652  0.72891566]\n"
          ],
          "name": "stdout"
        }
      ]
    },
    {
      "cell_type": "code",
      "metadata": {
        "colab": {
          "base_uri": "https://localhost:8080/"
        },
        "id": "YNvK-rQTrsdT",
        "outputId": "3f9b7f92-424c-4ca9-91b2-be3099d14593"
      },
      "source": [
        "import math\n",
        "\n",
        "output_dict = {0:\"You are not depressed\", 1:\"You are depressed.\"}\n",
        "new_input = [[\"I don't feel very good today\"],[\"I feel great\"],[\"I don't feel like getting up in the morning\"],[\"People around me are doing so well and I'm doing nothing.\"],[\"Can't wait for tomorrow!\"], [\"I got nothing to look forward to in life.\"], [\"The shop near my house has antidepressants\"], [\"Depression is something I've seen other people suffer from but not something I've personally experienced\"], [\"I don't know what hopelessness means\"]]\n",
        "\n",
        "new_val0 = bert_encode(new_input[0], tokenizer, max_len=max_len)\n",
        "new_val1 = bert_encode(new_input[1], tokenizer, max_len=max_len)\n",
        "new_val2 = bert_encode(new_input[2], tokenizer, max_len=max_len)\n",
        "new_val3 = bert_encode(new_input[3], tokenizer, max_len=max_len)\n",
        "new_val4 = bert_encode(new_input[4], tokenizer, max_len=max_len)\n",
        "new_val5 = bert_encode(new_input[5], tokenizer, max_len=max_len)\n",
        "new_val6 = bert_encode(new_input[6], tokenizer, max_len=max_len)\n",
        "new_val7 = bert_encode(new_input[7], tokenizer, max_len=max_len)\n",
        "new_val8 = bert_encode(new_input[7], tokenizer, max_len=max_len)\n",
        "\n",
        "\n",
        "print ('The sentence is \"' + new_input[0][0] + '\"')\n",
        "print (output_dict[(int(round(model.predict(new_val0)[0][0])))])\n",
        "print(\"\\n\")\n",
        "print ('The sentence is \"' + new_input[1][0] + '\"')\n",
        "print (output_dict[(int(round(model.predict(new_val1)[0][0])))])\n",
        "print(\"\\n\")\n",
        "print ('The sentence is \"' + new_input[2][0] + '\"')\n",
        "print (output_dict[(int(round(model.predict(new_val2)[0][0])))])\n",
        "print(\"\\n\")\n",
        "print ('The sentence is \"' + new_input[3][0] + '\"')\n",
        "print (output_dict[(int(round(model.predict(new_val3)[0][0])))])\n",
        "print(\"\\n\")\n",
        "print ('The sentence is \"' + new_input[4][0] + '\"')\n",
        "print (output_dict[(int(round(model.predict(new_val4)[0][0])))])\n",
        "print(\"\\n\")\n",
        "print ('The sentence is \"' + new_input[5][0] + '\"')\n",
        "print (output_dict[(int(round(model.predict(new_val5)[0][0])))])\n",
        "print(\"\\n\")\n",
        "print ('The sentence is \"' + new_input[6][0] + '\"')\n",
        "print (output_dict[(int(round(model.predict(new_val6)[0][0])))])\n",
        "print(\"\\n\")\n",
        "print ('The sentence is \"' + new_input[7][0] + '\"')\n",
        "print (output_dict[(int(round(model.predict(new_val7)[0][0])))])\n",
        "print(\"\\n\")\n",
        "print ('The sentence is \"' + new_input[8][0] + '\"')\n",
        "print (output_dict[(int(round(model.predict(new_val8)[0][0])))])\n",
        "print(\"\\n\")\n",
        "# print ('The sentence is \"' + new_input[9][0] + '\"')\n",
        "# print (output_dict[(int(round(model.predict(new_val9)[0][0])))])\n",
        "# print(\"\\n\")"
      ],
      "execution_count": 43,
      "outputs": [
        {
          "output_type": "stream",
          "text": [
            "The sentence is \"I don't feel very good today\"\n",
            "You are depressed.\n",
            "\n",
            "\n",
            "The sentence is \"I feel great\"\n",
            "You are not depressed\n",
            "\n",
            "\n",
            "The sentence is \"I don't feel like getting up in the morning\"\n",
            "You are depressed.\n",
            "\n",
            "\n",
            "The sentence is \"People around me are doing so well and I'm doing nothing.\"\n",
            "You are depressed.\n",
            "\n",
            "\n",
            "The sentence is \"Can't wait for tomorrow!\"\n",
            "You are not depressed\n",
            "\n",
            "\n",
            "The sentence is \"I got nothing to look forward to in life.\"\n",
            "You are depressed.\n",
            "\n",
            "\n",
            "The sentence is \"The shop near my house has antidepressants\"\n",
            "You are not depressed\n",
            "\n",
            "\n",
            "The sentence is \"Depression is something I've seen other people suffer from but not something I've personally experienced\"\n",
            "You are depressed.\n",
            "\n",
            "\n",
            "The sentence is \"I don't know what hopelessness means\"\n",
            "You are depressed.\n",
            "\n",
            "\n"
          ],
          "name": "stdout"
        }
      ]
    },
    {
      "cell_type": "markdown",
      "metadata": {
        "id": "p7rL4aoqx8Wr"
      },
      "source": [
        "The Classifier is often giving incorrect predictions for sentences having the words \"depressed\", \"depression\", \"loneliness\", \"hopelessness1\" in it.\n"
      ]
    },
    {
      "cell_type": "code",
      "metadata": {
        "id": "rHG5syUwyH6y"
      },
      "source": [
        ""
      ],
      "execution_count": null,
      "outputs": []
    }
  ]
}